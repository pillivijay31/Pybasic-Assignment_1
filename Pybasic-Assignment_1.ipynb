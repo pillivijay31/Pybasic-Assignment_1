{
 "cells": [
  {
   "cell_type": "raw",
   "id": "fdee81de",
   "metadata": {},
   "source": [
    "1. In the below elements which of them are values or an expression? Eg: values can be interger or string and expressions will be mathematical operations.\n",
    "# *, 'hello', -87.8, -, /, +, 6\n",
    "\n",
    "Values = 'hello', -87.8, 6\n",
    "Expressions = *, -, /, +"
   ]
  },
  {
   "cell_type": "code",
   "execution_count": 11,
   "id": "60058e6c",
   "metadata": {},
   "outputs": [
    {
     "data": {
      "text/plain": [
       "str"
      ]
     },
     "execution_count": 11,
     "metadata": {},
     "output_type": "execute_result"
    }
   ],
   "source": [
    "#2. What is the difference between string and variable?\n",
    "\n",
    "\n",
    "a = 'This is the Example'\n",
    "\n",
    "#String: It is a value or sequence of characters which is in single, double or triple quotes - 'This is the Example'\n",
    "#Variable: It is the storage location - a\n",
    "\n",
    "type(a)"
   ]
  },
  {
   "cell_type": "code",
   "execution_count": 18,
   "id": "715bcdc0",
   "metadata": {},
   "outputs": [
    {
     "data": {
      "text/plain": [
       "str"
      ]
     },
     "execution_count": 18,
     "metadata": {},
     "output_type": "execute_result"
    }
   ],
   "source": [
    "#3. Describe three different data types.\n",
    "\n",
    "a = (\"this is a string data type\")\n",
    "b = 549\n",
    "c = True\n",
    "d = 36+5j\n",
    "\n",
    "type(a)"
   ]
  },
  {
   "cell_type": "raw",
   "id": "3753f63f",
   "metadata": {},
   "source": [
    "4. What is an expression made of? What do all expressions do?\n"
   ]
  },
  {
   "cell_type": "raw",
   "id": "dc54061c",
   "metadata": {},
   "source": [
    "5. This assignment statements, like spam = 10. What is the difference between an expression and a statement?"
   ]
  },
  {
   "cell_type": "raw",
   "id": "8275959b",
   "metadata": {},
   "source": [
    "6. After running the following code, what does the variable bacon contain?\n",
    "bacon = 22\n",
    "bacon + 1"
   ]
  },
  {
   "cell_type": "code",
   "execution_count": 27,
   "id": "56eae157",
   "metadata": {},
   "outputs": [
    {
     "name": "stdout",
     "output_type": "stream",
     "text": [
      "23\n"
     ]
    }
   ],
   "source": [
    "bacon = 22\n",
    "a = bacon+1\n",
    "print(a)"
   ]
  },
  {
   "cell_type": "raw",
   "id": "a9ae4f65",
   "metadata": {},
   "source": [
    "7. What should the values of the following two terms be?\n",
    "'spam'+'spamspam' - 'spamspamspam'\n",
    "'spam' * 3 - 'spamspamspam'"
   ]
  },
  {
   "cell_type": "code",
   "execution_count": 24,
   "id": "79f1b7e8",
   "metadata": {},
   "outputs": [
    {
     "data": {
      "text/plain": [
       "'spamspamspam'"
      ]
     },
     "execution_count": 24,
     "metadata": {},
     "output_type": "execute_result"
    }
   ],
   "source": [
    "'spam' + 'spamspam'"
   ]
  },
  {
   "cell_type": "code",
   "execution_count": 22,
   "id": "ef267b18",
   "metadata": {},
   "outputs": [
    {
     "data": {
      "text/plain": [
       "'spamspamspam'"
      ]
     },
     "execution_count": 22,
     "metadata": {},
     "output_type": "execute_result"
    }
   ],
   "source": [
    "'spam' * 3"
   ]
  },
  {
   "cell_type": "raw",
   "id": "465a6281",
   "metadata": {},
   "source": [
    "8. Why is eggs a valid variable name while 100 is invalid?"
   ]
  },
  {
   "cell_type": "raw",
   "id": "46f1bf46",
   "metadata": {},
   "source": [
    "9. What are three functions caan be used to get the integer, floating-point number, or string version of a value?"
   ]
  },
  {
   "cell_type": "raw",
   "id": "f66fc92b",
   "metadata": {},
   "source": [
    "# 10. Why does this expression cause an error? How can you fix it?\n",
    "'I have eaten '+99+'burritos.'"
   ]
  },
  {
   "cell_type": "code",
   "execution_count": 31,
   "id": "e414fbbd",
   "metadata": {},
   "outputs": [
    {
     "data": {
      "text/plain": [
       "'I have eaten 99 burritos.'"
      ]
     },
     "execution_count": 31,
     "metadata": {},
     "output_type": "execute_result"
    }
   ],
   "source": [
    "'I have eaten '+str('99')+' burritos.'\n",
    "# string  will concatenate with another string only.\n",
    "# So integer should convert into string"
   ]
  },
  {
   "cell_type": "code",
   "execution_count": null,
   "id": "d933291c",
   "metadata": {},
   "outputs": [],
   "source": []
  },
  {
   "cell_type": "code",
   "execution_count": null,
   "id": "063b64cb",
   "metadata": {},
   "outputs": [],
   "source": []
  }
 ],
 "metadata": {
  "kernelspec": {
   "display_name": "Python 3 (ipykernel)",
   "language": "python",
   "name": "python3"
  },
  "language_info": {
   "codemirror_mode": {
    "name": "ipython",
    "version": 3
   },
   "file_extension": ".py",
   "mimetype": "text/x-python",
   "name": "python",
   "nbconvert_exporter": "python",
   "pygments_lexer": "ipython3",
   "version": "3.9.7"
  }
 },
 "nbformat": 4,
 "nbformat_minor": 5
}
